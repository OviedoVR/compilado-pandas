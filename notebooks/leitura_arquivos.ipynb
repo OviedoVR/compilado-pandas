{
 "cells": [
  {
   "cell_type": "markdown",
   "metadata": {},
   "source": [
    "# Leitura de arquivos"
   ]
  },
  {
   "cell_type": "markdown",
   "metadata": {},
   "source": [
    "```python\n",
    "# arquivo de MS Excel:\n",
    "dados = pd.read_xlsx('ARQUIVO.xlsx', sheet_name='planilha')\n",
    "\n",
    "# arquivo csv (separado por vírgulas):\n",
    "dados = pd.read_csv('ARQUIVO.csv', delimiter=';')\n",
    "\n",
    "# arquivo de texto:\n",
    "dados = pd.read_txt('ARQUIVO.txt')\n",
    "\n",
    "# outros formatos (asc, txt, dat): \n",
    "dados = pd.read_fwf('ARQUIVO.asc')\n",
    "\n",
    "# tabela de página web (html):\n",
    "dados = pd.read_html('URL')[indice_tabela]\n",
    "\n",
    "# arquivo json:\n",
    "dados = pd.read_json('ARQUIVO.json')\n",
    "```"
   ]
  },
  {
   "cell_type": "code",
   "execution_count": null,
   "metadata": {},
   "outputs": [],
   "source": []
  }
 ],
 "metadata": {
  "language_info": {
   "name": "python"
  }
 },
 "nbformat": 4,
 "nbformat_minor": 2
}
